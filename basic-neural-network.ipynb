{
 "cells": [
  {
   "cell_type": "code",
   "execution_count": 1,
   "metadata": {},
   "outputs": [],
   "source": [
    "import numpy as np\n",
    "import matplotlib.pyplot as plt\n",
    "import sys"
   ]
  },
  {
   "cell_type": "code",
   "execution_count": 2,
   "metadata": {},
   "outputs": [],
   "source": [
    "# Random seed\n",
    "random_seed = 1\n",
    "np.random.seed(random_seed)"
   ]
  },
  {
   "cell_type": "code",
   "execution_count": 3,
   "metadata": {},
   "outputs": [],
   "source": [
    "# Load data\n",
    "from sklearn import datasets\n",
    "X, y = datasets.make_moons(200, noise = 0.2, random_state = random_seed)\n",
    "n_of_classes = len(np.unique(y))"
   ]
  },
  {
   "cell_type": "code",
   "execution_count": 4,
   "metadata": {},
   "outputs": [],
   "source": [
    "# One-hot encode the labels\n",
    "def one_hot_encoder(y):\n",
    "    a = np.zeros((len(y), n_of_classes))\n",
    "    for idx, i in enumerate(y):\n",
    "        a[idx, int(i)] = 1\n",
    "    return a\n",
    "\n",
    "y_coded = one_hot_encoder(y)"
   ]
  },
  {
   "cell_type": "code",
   "execution_count": 5,
   "metadata": {},
   "outputs": [
    {
     "data": {
      "image/png": "[encoded data removed]",
      "text/plain": [
       "<Figure size 432x288 with 1 Axes>"
      ]
     },
     "metadata": {
      "needs_background": "light"
     },
     "output_type": "display_data"
    }
   ],
   "source": [
    "# Visualize the dataset\n",
    "for i in range(n_of_classes):\n",
    "    plt.scatter(X[y == i, 0], X[y == i, 1], label = \"Class \" + str(i))\n",
    "plt.xlabel(\"Feature 1\")\n",
    "plt.ylabel(\"Feature 2\")\n",
    "plt.legend()\n",
    "plt.show()"
   ]
  },
  {
   "cell_type": "code",
   "execution_count": 6,
   "metadata": {},
   "outputs": [
    {
     "name": "stdout",
     "output_type": "stream",
     "text": [
      "[[ 1.62434536 -0.61175641 -0.52817175 -1.07296862  0.86540763]\n",
      " [-2.3015387   1.74481176 -0.7612069   0.3190391  -0.24937038]]\n",
      "[0. 0. 0. 0. 0.]\n",
      "[[ 1.46210794 -2.06014071]\n",
      " [-0.3224172  -0.38405435]\n",
      " [ 1.13376944 -1.09989127]\n",
      " [-0.17242821 -0.87785842]\n",
      " [ 0.04221375  0.58281521]]\n",
      "[0. 0.]\n"
     ]
    }
   ],
   "source": [
    "n_hidden_nodes = 5\n",
    "\n",
    "w_h = np.random.randn(X.shape[1], n_hidden_nodes)\n",
    "w_out = np.random.randn(n_hidden_nodes, n_of_classes)\n",
    "b_h = np.zeros(n_hidden_nodes)\n",
    "b_out = np.zeros(n_of_classes)\n",
    "print(w_h)\n",
    "print(b_h)\n",
    "print(w_out)\n",
    "print(b_out)"
   ]
  },
  {
   "cell_type": "code",
   "execution_count": 7,
   "metadata": {},
   "outputs": [],
   "source": [
    "# Activation functions\n",
    "def sigmoid(z):\n",
    "    return 1. / (1. + np.exp(-np.clip(z, -250, 250)))"
   ]
  },
  {
   "cell_type": "code",
   "execution_count": 8,
   "metadata": {},
   "outputs": [],
   "source": [
    "def net_input(X, w, b):\n",
    "    return X.dot(w) + b"
   ]
  },
  {
   "cell_type": "code",
   "execution_count": 9,
   "metadata": {},
   "outputs": [],
   "source": [
    "# Feed forward operation\n",
    "def forward_prop(a, w, b):\n",
    "    net_sum = net_input(a, w, b)\n",
    "    return sigmoid(net_sum)"
   ]
  },
  {
   "cell_type": "code",
   "execution_count": 10,
   "metadata": {},
   "outputs": [
    {
     "name": "stdout",
     "output_type": "stream",
     "text": [
      "[[0.53904062 0.22522229]\n",
      " [0.50980408 0.28582953]\n",
      " [0.56661593 0.25553019]\n",
      " [0.66362922 0.16889504]\n",
      " [0.82457337 0.12420901]]\n"
     ]
    }
   ],
   "source": [
    "a_h = forward_prop(X, w_h, b_h)\n",
    "a_out = forward_prop(a_h, w_out, b_out)\n",
    "print(a_out[:5])"
   ]
  },
  {
   "cell_type": "code",
   "execution_count": 11,
   "metadata": {},
   "outputs": [],
   "source": [
    "# Cost function\n",
    "# compute_cost(output_layer_nodes, weight_hidden, weight_out, cost_lambda)\n",
    "def compute_cost(output):\n",
    "    term_1 = -y_coded * (np.log(output))\n",
    "    term_2 = (1. - y_coded) * np.log(1. - output)\n",
    "    return np.sum(term_1 - term_2)"
   ]
  },
  {
   "cell_type": "code",
   "execution_count": 12,
   "metadata": {},
   "outputs": [
    {
     "name": "stdout",
     "output_type": "stream",
     "text": [
      "Cost: \n",
      "458.2849523492644\n"
     ]
    }
   ],
   "source": [
    "cost = compute_cost(a_out)\n",
    "print(\"Cost: \")\n",
    "print(cost)"
   ]
  },
  {
   "cell_type": "code",
   "execution_count": 13,
   "metadata": {},
   "outputs": [
    {
     "name": "stdout",
     "output_type": "stream",
     "text": [
      "[[ 15.08061418   1.1119137   41.87104616   7.93643453  -7.4663352 ]\n",
      " [ -8.68662276   0.39491133 -17.44180404  -3.1809995    2.91595018]]\n"
     ]
    }
   ],
   "source": [
    "def numerical_grad(X, w_h, w_out, e=1e-4):\n",
    "    numgrad = np.zeros(w_h.shape)\n",
    "    perturb = np.zeros(w_h.shape)\n",
    "    \n",
    "    for i in range(w_h.shape[0]):\n",
    "        for p in range(w_h.shape[1]):\n",
    "            perturb[i][p] = e\n",
    "#             print(perturb)\n",
    "            a_h = forward_prop(X, w_h + perturb, b_h)\n",
    "            a_out = forward_prop(a_h, w_out, b_out)\n",
    "            loss_2 = compute_cost(a_out)\n",
    "\n",
    "            a_h = forward_prop(X, w_h - perturb, b_h)\n",
    "            a_out = forward_prop(a_h, w_out, b_out)\n",
    "            loss_1 = compute_cost(a_out)\n",
    "            numgrad[i][p] = (loss_2 - loss_1) / (2 * e)\n",
    "            perturb[i][p] = 0\n",
    "\n",
    "    return numgrad\n",
    "numgrad = numerical_grad(X, w_h, w_out)\n",
    "print(numgrad)"
   ]
  },
  {
   "cell_type": "code",
   "execution_count": 14,
   "metadata": {},
   "outputs": [
    {
     "name": "stdout",
     "output_type": "stream",
     "text": [
      "[[ 15.08061414   1.1119137   41.87104619   7.93643452  -7.4663352 ]\n",
      " [ -8.68662276   0.39491133 -17.44180405  -3.1809995    2.91595019]]\n"
     ]
    }
   ],
   "source": [
    "def compute_grad(X, w_h, w_out):\n",
    "    a_h = forward_prop(X, w_h, b_h)\n",
    "    a_out = forward_prop(a_h, w_out, b_out)\n",
    "    \n",
    "    sigma_out = a_out - y_coded\n",
    "    sigmoid_derivative_h = a_h * (1 - a_h)\n",
    "    sigma_h = (np.dot(sigma_out, w_out.T) * sigmoid_derivative_h)\n",
    "    \n",
    "    grad_w_h = np.dot(X.T, sigma_h)\n",
    "    return grad_w_h\n",
    "grad = compute_grad(X, w_h, w_out)\n",
    "print(grad)"
   ]
  },
  {
   "cell_type": "code",
   "execution_count": 15,
   "metadata": {},
   "outputs": [
    {
     "data": {
      "text/plain": [
       "5.253850422850456e-10"
      ]
     },
     "execution_count": 15,
     "metadata": {},
     "output_type": "execute_result"
    }
   ],
   "source": [
    "def norm(mat):\n",
    "    return np.sum(mat ** 2) ** 0.5\n",
    "norm(grad-numgrad)/norm(grad+numgrad)"
   ]
  },
  {
   "cell_type": "code",
   "execution_count": 16,
   "metadata": {},
   "outputs": [],
   "source": [
    "# Cost function\n",
    "# compute_cost(output_layer_nodes, weight_hidden, weight_out, cost_lambda)\n",
    "def compute_cost(output, weight_hidden, weight_out, cost_lambda):\n",
    "    term_1 = -y_coded * (np.log(output))\n",
    "    term_2 = (1. - y_coded) * np.log(1. - output)\n",
    "    regularization = cost_lambda * (np.sum(weight_hidden ** 2.) + np.sum(weight_out) ** 2.)\n",
    "    return np.sum(term_1 - term_2) + regularization"
   ]
  },
  {
   "cell_type": "code",
   "execution_count": 17,
   "metadata": {},
   "outputs": [],
   "source": [
    "def train(X, n_epochs, learning_rate, cost_lambda):\n",
    "    cost_array = []\n",
    "    w_h = np.random.normal(loc = 0.0, scale = 0.1, size = (X.shape[1] + 1,\n",
    "                                                             n_hidden_nodes))\n",
    "    w_out = np.random.normal(loc = 0.0, scale = 0.1, size = (n_hidden_nodes + 1, \n",
    "                                                           n_of_classes))\n",
    "\n",
    "    b_h = w_h[0]\n",
    "    b_out = w_out[0]\n",
    "    w_h = w_h[1:]\n",
    "    w_out = w_out[1:]\n",
    "    \n",
    "    for epoch in range(n_epochs + 1):    \n",
    "        a_h = forward_prop(X, w_h, b_h)\n",
    "        a_out = forward_prop(a_h, w_out, b_out)\n",
    "\n",
    "        cost = compute_cost(a_out, w_h, w_out, cost_lambda)\n",
    "        cost_array.append(cost)\n",
    "\n",
    "        sigma_out = a_out - y_coded\n",
    "\n",
    "        # [n_hidden, n_samples] dot [n_samples, n_classlabels]\n",
    "        # -> [n_hidden, n_classlabels]\n",
    "        grad_w_out = np.dot(a_h.T, sigma_out)\n",
    "        grad_b_out = np.sum(sigma_out, axis=0)\n",
    "\n",
    "\n",
    "        delta_w_out = (grad_w_out + cost_lambda*w_out)\n",
    "        delta_b_out = grad_b_out  # bias is not regularized\n",
    "        w_out -= learning_rate * delta_w_out\n",
    "        b_out -= learning_rate * delta_b_out\n",
    "\n",
    "        # [n_samples, n_hidden]\n",
    "        z_2 = X.dot(w_h) + b_h\n",
    "        sigmoid_derivative_h = sigmoid_grad(z_2)\n",
    "\n",
    "        # [n_samples, n_classlabels] dot [n_classlabels, n_hidden]\n",
    "        # -> [n_samples, n_hidden]\n",
    "        sigma_h = (np.dot(sigma_out, w_out.T) *\n",
    "                   sigmoid_derivative_h)\n",
    "\n",
    "        # [n_features, n_samples] dot [n_samples, n_hidden]\n",
    "        # -> [n_features, n_hidden]\n",
    "        grad_w_h = np.dot(X.T, sigma_h)\n",
    "        grad_b_h = np.sum(sigma_h, axis=0)\n",
    "\n",
    "        # Regularization and weight updates\n",
    "        delta_w_h = (grad_w_h + cost_lambda*w_h)\n",
    "        delta_b_h = grad_b_h # bias is not regularized\n",
    "        w_h -= learning_rate * delta_w_h\n",
    "        b_h -= learning_rate * delta_b_h\n",
    "\n",
    "        if epoch % 100 == 0:\n",
    "            sys.stderr.write(\"\\rEpoch: %d\\tCost: %f\" % (epoch, cost))\n",
    "            sys.stderr.flush()\n",
    "    return w_out, w_h, b_out, b_h, cost_array"
   ]
  },
  {
   "cell_type": "code",
   "execution_count": 18,
   "metadata": {},
   "outputs": [],
   "source": [
    "n_epochs = 20000\n",
    "learning_rate = 0.01\n",
    "cost_lambda = 0"
   ]
  },
  {
   "cell_type": "code",
   "execution_count": 19,
   "metadata": {},
   "outputs": [],
   "source": [
    "def sigmoid_grad(z):\n",
    "    return sigmoid(z) * (1. - sigmoid(z))"
   ]
  },
  {
   "cell_type": "code",
   "execution_count": 20,
   "metadata": {},
   "outputs": [
    {
     "name": "stderr",
     "output_type": "stream",
     "text": [
      "Epoch: 20000\tCost: 9.6631745"
     ]
    }
   ],
   "source": [
    "w_out, w_h, b_out, b_h, cost_array = train(X, n_epochs, learning_rate, cost_lambda)"
   ]
  },
  {
   "cell_type": "code",
   "execution_count": 21,
   "metadata": {},
   "outputs": [
    {
     "name": "stdout",
     "output_type": "stream",
     "text": [
      "Accuracy = 99.5\n"
     ]
    }
   ],
   "source": [
    "from sklearn.metrics import confusion_matrix\n",
    "\n",
    "def predict(X, weight_hidden, bias_hidden, weight_out, bias_out):\n",
    "    hidden_layer_nodes = forward_prop(X, weight_hidden, bias_hidden)\n",
    "    output_layer_nodes = forward_prop(hidden_layer_nodes, weight_out, bias_out)\n",
    "    y_pred = np.argmax(output_layer_nodes, axis = 1)    \n",
    "    return y_pred\n",
    "y_pred = predict(X, w_h, b_h, w_out, b_out)\n",
    "accuracy = np.mean((y_pred == y)*100)\n",
    "print(\"Accuracy =\", str(accuracy))"
   ]
  },
  {
   "cell_type": "code",
   "execution_count": 22,
   "metadata": {},
   "outputs": [
    {
     "data": {
      "text/plain": [
       "[<matplotlib.lines.Line2D at 0x1f63d89f748>]"
      ]
     },
     "execution_count": 22,
     "metadata": {},
     "output_type": "execute_result"
    },
    {
     "data": {
      "image/png": "[encoded data removed]",
      "text/plain": [
       "<Figure size 432x288 with 1 Axes>"
      ]
     },
     "metadata": {
      "needs_background": "light"
     },
     "output_type": "display_data"
    }
   ],
   "source": [
    "plt.plot(range(len(cost_array)), cost_array)"
   ]
  },
  {
   "cell_type": "code",
   "execution_count": 23,
   "metadata": {},
   "outputs": [],
   "source": [
    "from matplotlib.colors import ListedColormap\n",
    "def plot_decision_regions(X, y, weight_hidden, bias_hidden, weight_out, bias_out, resolution = 0.01):\n",
    "    markers = ('s', 'x', 'o', '^', 'v')\n",
    "    colors = ('red', 'blue', 'lightgreen', 'gray', 'cyan')\n",
    "    cmap = ListedColormap(colors[:len(np.unique(y))])\n",
    "    \n",
    "    # Draw the plane\n",
    "    x1_min, x1_max = X[:, 0].min() - 1, X[:, 0].max() + 1\n",
    "    x2_min, x2_max = X[:, 1].min() - 1, X[:, 1].max() + 1\n",
    "    xx1, xx2 = np.meshgrid(np.arange(x1_min, x1_max, resolution), np.arange(x2_min, x2_max, resolution))\n",
    "    \n",
    "    # Predict using the meshgrid\n",
    "    Z = predict(np.array([xx1.ravel(), xx2.ravel()]).T, weight_hidden, bias_hidden, weight_out, bias_out)\n",
    "    Z = Z.reshape(xx1.shape)\n",
    "    \n",
    "    # Draw the binary decision range\n",
    "    plt.contourf(xx1, xx2, Z, alpha = 0.3, cmap = cmap)\n",
    "    plt.xlim(xx1.min(), xx1.max())\n",
    "    plt.ylim(xx2.min(), xx2.max())\n",
    "\n",
    "    # Plot the data\n",
    "    for idx, cl in enumerate(np.unique(y)):\n",
    "        plt.scatter(x = X[y == cl, 0], y = X[y == cl, 1], alpha = 0.8, c = colors[idx], marker = markers[idx], label = cl, edgecolor = 'black')\n"
   ]
  },
  {
   "cell_type": "code",
   "execution_count": 24,
   "metadata": {},
   "outputs": [
    {
     "data": {
      "image/png": "[encoded data removed]",
      "text/plain": [
       "<Figure size 432x288 with 1 Axes>"
      ]
     },
     "metadata": {
      "needs_background": "light"
     },
     "output_type": "display_data"
    }
   ],
   "source": [
    "plot_decision_regions(X, y, w_h, b_h, w_out, b_out)"
   ]
  },
  {
   "cell_type": "code",
   "execution_count": null,
   "metadata": {},
   "outputs": [],
   "source": []
  }
 ],
 "metadata": {
  "kernelspec": {
   "display_name": "Python 3",
   "language": "python",
   "name": "python3"
  },
  "language_info": {
   "codemirror_mode": {
    "name": "ipython",
    "version": 3
   },
   "file_extension": ".py",
   "mimetype": "text/x-python",
   "name": "python",
   "nbconvert_exporter": "python",
   "pygments_lexer": "ipython3",
   "version": "3.6.7"
  }
 },
 "nbformat": 4,
 "nbformat_minor": 2
}
